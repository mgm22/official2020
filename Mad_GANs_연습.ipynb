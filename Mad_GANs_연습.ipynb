{
  "nbformat": 4,
  "nbformat_minor": 0,
  "metadata": {
    "celltoolbar": "Slideshow",
    "kernelspec": {
      "name": "python3",
      "display_name": "Python 3"
    },
    "colab": {
      "name": "Mad_GANs.ipynb",
      "provenance": [],
      "collapsed_sections": [],
      "include_colab_link": true
    },
    "accelerator": "GPU"
  },
  "cells": [
    {
      "cell_type": "markdown",
      "metadata": {
        "id": "view-in-github",
        "colab_type": "text"
      },
      "source": [
        "<a href=\"https://colab.research.google.com/github/mgm22/official2020/blob/master/Mad_GANs_%EC%97%B0%EC%8A%B5.ipynb\" target=\"_parent\"><img src=\"https://colab.research.google.com/assets/colab-badge.svg\" alt=\"Open In Colab\"/></a>"
      ]
    },
    {
      "cell_type": "markdown",
      "metadata": {
        "id": "f7oBlAvOk_x_"
      },
      "source": [
        "## MAD GAN"
      ]
    },
    {
      "cell_type": "code",
      "metadata": {
        "id": "OqEAAHr7k_yG"
      },
      "source": [
        "# Initialization of libraries\n",
        "import torch\n",
        "import torch.nn\n",
        "import torch.nn as nn\n",
        "import torch.autograd as autograd\n",
        "import torch.optim as optim\n",
        "import numpy as np\n",
        "import matplotlib.pyplot as plt\n",
        "import matplotlib.gridspec as gridspec\n",
        "import os\n",
        "from torch.autograd import Variable\n",
        "import torchvision\n",
        "import torchvision.transforms as transforms\n",
        "import random\n",
        "from random import randint\n",
        "from sklearn.mixture import GMM\n",
        "device = torch.device('cuda')\n",
        "%matplotlib inline"
      ],
      "execution_count": 2,
      "outputs": []
    },
    {
      "cell_type": "code",
      "metadata": {
        "colab": {
          "base_uri": "https://localhost:8080/"
        },
        "id": "JxvMHh9cljGE",
        "outputId": "84401756-a48f-4188-9b54-ed6a01e9740b"
      },
      "source": [
        "pip install scikit-learn==0.19.2"
      ],
      "execution_count": 1,
      "outputs": [
        {
          "output_type": "stream",
          "text": [
            "Collecting scikit-learn==0.19.2\n",
            "\u001b[?25l  Downloading https://files.pythonhosted.org/packages/f9/c8/8db4108aba5e2166cd2ea4eafa1a4b82f89240a1fa85733029cc2358ad1f/scikit_learn-0.19.2-cp36-cp36m-manylinux1_x86_64.whl (4.9MB)\n",
            "\u001b[K     |████████████████████████████████| 4.9MB 5.8MB/s \n",
            "\u001b[31mERROR: yellowbrick 0.9.1 has requirement scikit-learn>=0.20, but you'll have scikit-learn 0.19.2 which is incompatible.\u001b[0m\n",
            "\u001b[31mERROR: umap-learn 0.4.6 has requirement scikit-learn>=0.20, but you'll have scikit-learn 0.19.2 which is incompatible.\u001b[0m\n",
            "\u001b[31mERROR: imbalanced-learn 0.4.3 has requirement scikit-learn>=0.20, but you'll have scikit-learn 0.19.2 which is incompatible.\u001b[0m\n",
            "\u001b[?25hInstalling collected packages: scikit-learn\n",
            "  Found existing installation: scikit-learn 0.22.2.post1\n",
            "    Uninstalling scikit-learn-0.22.2.post1:\n",
            "      Successfully uninstalled scikit-learn-0.22.2.post1\n",
            "Successfully installed scikit-learn-0.19.2\n"
          ],
          "name": "stdout"
        }
      ]
    },
    {
      "cell_type": "code",
      "metadata": {
        "id": "uxWTooXplqB-"
      },
      "source": [
        ""
      ],
      "execution_count": null,
      "outputs": []
    },
    {
      "cell_type": "code",
      "metadata": {
        "id": "Mej_UV1Ik_yH"
      },
      "source": [
        "# defining parameters for the training\n",
        "mb_size = 128 # Batch Size\n",
        "Z_dim = 64  # Length of noise vector\n",
        "X_dim = 1  # Input Length\n",
        "h_dim = 128  # Hidden Dimension\n",
        "lr = 1e-4    # Learning Rate\n",
        "num_gen = 4"
      ],
      "execution_count": 3,
      "outputs": []
    },
    {
      "cell_type": "code",
      "metadata": {
        "colab": {
          "base_uri": "https://localhost:8080/"
        },
        "id": "bLLu7fllk_yI",
        "outputId": "4ad78769-b99d-4493-e3c1-3aff5f42df54"
      },
      "source": [
        "np.random.seed(1)\n",
        "gmm = GMM(5)\n",
        "gmm.means_ = np.array([[10], [20], [60], [80], [110]])\n",
        "gmm.covars_ = np.array([[3], [3], [2], [2], [1]]) ** 2\n",
        "gmm.weights_ = np.array([0.2, 0.2, 0.2, 0.2, 0.2])\n",
        "\n",
        "X = gmm.sample(200000)\n",
        "data = X\n",
        "data = (data - X.min())/(X.max()-X.min())\n",
        "#plt.hist(data, 200000, normed=False, histtype='stepfilled', alpha=1)"
      ],
      "execution_count": 5,
      "outputs": [
        {
          "output_type": "stream",
          "text": [
            "/usr/local/lib/python3.6/dist-packages/sklearn/utils/deprecation.py:58: DeprecationWarning: Class GMM is deprecated; The class GMM is deprecated in 0.18 and will be  removed in 0.20. Use class GaussianMixture instead.\n",
            "  warnings.warn(msg, category=DeprecationWarning)\n"
          ],
          "name": "stderr"
        }
      ]
    },
    {
      "cell_type": "code",
      "metadata": {
        "id": "DaqxKjcSk_yJ"
      },
      "source": [
        "G = []\n",
        "for i in range(num_gen):\n",
        "    G.append(torch.nn.Sequential(\n",
        "        torch.nn.Linear(Z_dim, h_dim),\n",
        "        torch.nn.PReLU(),\n",
        "        torch.nn.Linear(h_dim, h_dim),\n",
        "        torch.nn.PReLU(),\n",
        "        torch.nn.Linear(h_dim, X_dim),\n",
        "        torch.nn.Sigmoid()\n",
        "    ).cuda())\n",
        "\n",
        "D = torch.nn.Sequential(\n",
        "    torch.nn.Linear(X_dim, h_dim),\n",
        "    torch.nn.LeakyReLU(0.2),\n",
        "    torch.nn.Linear(h_dim, h_dim),\n",
        "    torch.nn.LeakyReLU(0.2),\n",
        "    torch.nn.Linear(h_dim, num_gen + 1),\n",
        "    torch.nn.Softmax()\n",
        ").cuda()"
      ],
      "execution_count": 6,
      "outputs": []
    },
    {
      "cell_type": "code",
      "metadata": {
        "id": "rkaxbJUOk_yJ"
      },
      "source": [
        "G_solver = []\n",
        "for i in range(num_gen):\n",
        "    G_solver.append(optim.Adam(G[i].parameters(), lr))\n",
        "D_solver = optim.Adam(D.parameters(), lr)\n",
        "###\n",
        "loss = nn.CrossEntropyLoss()\n",
        "label_G = Variable(torch.LongTensor(mb_size))\n",
        "label_G = label_G.to(device)\n",
        "label_D = Variable(torch.LongTensor(mb_size))\n",
        "label_D = label_D.to(device)"
      ],
      "execution_count": 7,
      "outputs": []
    },
    {
      "cell_type": "code",
      "metadata": {
        "id": "PVO5ki33k_yK"
      },
      "source": [
        "# Reset the gradients to zero\n",
        "params = [G[0], G[1], G[2], G[3], D]\n",
        "def reset_grad():\n",
        "    for net in params:\n",
        "        net.zero_grad()\n",
        "reset_grad()"
      ],
      "execution_count": 8,
      "outputs": []
    },
    {
      "cell_type": "code",
      "metadata": {
        "colab": {
          "base_uri": "https://localhost:8080/"
        },
        "id": "99agofNTnPql",
        "outputId": "52338d0c-d0a9-4942-843b-ed52561194d6"
      },
      "source": [
        "print(G)\r\n",
        "print(D)"
      ],
      "execution_count": 10,
      "outputs": [
        {
          "output_type": "stream",
          "text": [
            "[Sequential(\n",
            "  (0): Linear(in_features=64, out_features=128, bias=True)\n",
            "  (1): PReLU(num_parameters=1)\n",
            "  (2): Linear(in_features=128, out_features=128, bias=True)\n",
            "  (3): PReLU(num_parameters=1)\n",
            "  (4): Linear(in_features=128, out_features=1, bias=True)\n",
            "  (5): Sigmoid()\n",
            "), Sequential(\n",
            "  (0): Linear(in_features=64, out_features=128, bias=True)\n",
            "  (1): PReLU(num_parameters=1)\n",
            "  (2): Linear(in_features=128, out_features=128, bias=True)\n",
            "  (3): PReLU(num_parameters=1)\n",
            "  (4): Linear(in_features=128, out_features=1, bias=True)\n",
            "  (5): Sigmoid()\n",
            "), Sequential(\n",
            "  (0): Linear(in_features=64, out_features=128, bias=True)\n",
            "  (1): PReLU(num_parameters=1)\n",
            "  (2): Linear(in_features=128, out_features=128, bias=True)\n",
            "  (3): PReLU(num_parameters=1)\n",
            "  (4): Linear(in_features=128, out_features=1, bias=True)\n",
            "  (5): Sigmoid()\n",
            "), Sequential(\n",
            "  (0): Linear(in_features=64, out_features=128, bias=True)\n",
            "  (1): PReLU(num_parameters=1)\n",
            "  (2): Linear(in_features=128, out_features=128, bias=True)\n",
            "  (3): PReLU(num_parameters=1)\n",
            "  (4): Linear(in_features=128, out_features=1, bias=True)\n",
            "  (5): Sigmoid()\n",
            ")]\n",
            "Sequential(\n",
            "  (0): Linear(in_features=1, out_features=128, bias=True)\n",
            "  (1): LeakyReLU(negative_slope=0.2)\n",
            "  (2): Linear(in_features=128, out_features=128, bias=True)\n",
            "  (3): LeakyReLU(negative_slope=0.2)\n",
            "  (4): Linear(in_features=128, out_features=5, bias=True)\n",
            "  (5): Softmax(dim=None)\n",
            ")\n"
          ],
          "name": "stdout"
        }
      ]
    },
    {
      "cell_type": "code",
      "metadata": {
        "colab": {
          "base_uri": "https://localhost:8080/"
        },
        "id": "AwGwBS9Uk_yK",
        "outputId": "32d5270f-4ce3-4241-d9f6-7d9517e9691e"
      },
      "source": [
        "data_index = 0\n",
        "for it in range(198000):\n",
        "    if ((data_index + 1)*mb_size>len(data)):\n",
        "        data_index = 0\n",
        "\n",
        "    X = torch.from_numpy(np.array(data[data_index*mb_size : (data_index + 1)*mb_size]))\n",
        "    X = X.view(mb_size, 1)\n",
        "    X = X.type(torch.FloatTensor)\n",
        "    X = X.to(device)\n",
        "    Total_D_loss = 0\n",
        "    for i in range(num_gen):\n",
        "        # Dicriminator forward-loss-backward-update\n",
        "        #forward pass\n",
        "        z = torch.FloatTensor(mb_size, Z_dim).uniform_(-1, 1)\n",
        "        z = z.to(device)\n",
        "        G_sample = G[i](z)\n",
        "        D_real = D(X)\n",
        "        D_fake = D(G_sample)\n",
        "        # Calculate the loss\n",
        "        D_loss_real = loss(D_real,label_D.fill_(num_gen + 0.1*randint(-1,1)))\n",
        "        D_loss_fake = loss(D_fake, label_G.fill_(i + 0.1*randint(-1,1)))\n",
        "        D_loss = D_loss_real + D_loss_fake\n",
        "        Total_D_loss = D_loss + Total_D_loss\n",
        "        # Calulate and update gradients of discriminator\n",
        "        D_loss.backward()\n",
        "        D_solver.step()\n",
        "\n",
        "        # reset gradient\n",
        "        reset_grad()\n",
        "\n",
        "    # Generator forward-loss-backward-update\n",
        "    \n",
        "    Total_G_loss = 0\n",
        "    for i in range(num_gen):\n",
        "        \n",
        "        z = torch.FloatTensor(mb_size, Z_dim).uniform_(-1, 1)\n",
        "        z = z.to(device)\n",
        "        G_sample = G[i](z)\n",
        "        D_fake = D(G_sample)\n",
        "\n",
        "        G_loss = loss(D_fake, label_D.fill_(num_gen + 0.1*randint(-1,1)))\n",
        "        Total_G_loss = G_loss + Total_G_loss\n",
        "        G_loss.backward()\n",
        "        G_solver[i].step()\n",
        "\n",
        "        # reset gradient\n",
        "        reset_grad()\n",
        "        \n",
        "    data_index = data_index + 1\n",
        "    # Print and plot every now and then\n",
        "    if it % 1000 == 0:\n",
        "        print('Iter-{}; D_loss: {}; G_loss: {}'.format(it, Total_D_loss.data.cpu().numpy(), Total_G_loss.data.cpu().numpy()))"
      ],
      "execution_count": 11,
      "outputs": [
        {
          "output_type": "stream",
          "text": [
            "/usr/local/lib/python3.6/dist-packages/torch/nn/modules/container.py:117: UserWarning: Implicit dimension choice for softmax has been deprecated. Change the call to include dim=X as an argument.\n",
            "  input = module(input)\n"
          ],
          "name": "stderr"
        },
        {
          "output_type": "stream",
          "text": [
            "Iter-0; D_loss: 12.877647399902344; G_loss: 6.414348125457764\n",
            "Iter-1000; D_loss: 12.121740341186523; G_loss: 5.436680793762207\n",
            "Iter-2000; D_loss: 12.663895606994629; G_loss: 5.111286640167236\n",
            "Iter-3000; D_loss: 11.78495979309082; G_loss: 6.265835285186768\n",
            "Iter-4000; D_loss: 12.991355895996094; G_loss: 5.523771286010742\n",
            "Iter-5000; D_loss: 11.889249801635742; G_loss: 5.163941383361816\n",
            "Iter-6000; D_loss: 12.41379451751709; G_loss: 5.195889949798584\n",
            "Iter-7000; D_loss: 12.319002151489258; G_loss: 5.25251579284668\n",
            "Iter-8000; D_loss: 12.28233528137207; G_loss: 5.342812538146973\n",
            "Iter-9000; D_loss: 12.237682342529297; G_loss: 5.1449785232543945\n",
            "Iter-10000; D_loss: 11.337226867675781; G_loss: 5.218575477600098\n",
            "Iter-11000; D_loss: 12.183147430419922; G_loss: 5.902035236358643\n",
            "Iter-12000; D_loss: 13.100282669067383; G_loss: 5.2783403396606445\n",
            "Iter-13000; D_loss: 11.565970420837402; G_loss: 5.058351516723633\n",
            "Iter-14000; D_loss: 11.474931716918945; G_loss: 5.139024257659912\n",
            "Iter-15000; D_loss: 12.139199256896973; G_loss: 5.29067325592041\n",
            "Iter-16000; D_loss: 12.34493637084961; G_loss: 5.374022006988525\n",
            "Iter-17000; D_loss: 11.789627075195312; G_loss: 4.9258646965026855\n",
            "Iter-18000; D_loss: 12.91590690612793; G_loss: 5.896725654602051\n",
            "Iter-19000; D_loss: 12.275300025939941; G_loss: 5.044892311096191\n",
            "Iter-20000; D_loss: 12.821493148803711; G_loss: 5.934191703796387\n",
            "Iter-21000; D_loss: 12.711612701416016; G_loss: 4.444350242614746\n",
            "Iter-22000; D_loss: 11.923360824584961; G_loss: 5.7183966636657715\n",
            "Iter-23000; D_loss: 12.438019752502441; G_loss: 5.901632308959961\n",
            "Iter-24000; D_loss: 12.327808380126953; G_loss: 4.855260848999023\n",
            "Iter-25000; D_loss: 11.920576095581055; G_loss: 5.052312850952148\n",
            "Iter-26000; D_loss: 12.471336364746094; G_loss: 4.953200817108154\n",
            "Iter-27000; D_loss: 12.128162384033203; G_loss: 5.439004898071289\n",
            "Iter-28000; D_loss: 12.119474411010742; G_loss: 5.05068302154541\n",
            "Iter-29000; D_loss: 12.555350303649902; G_loss: 5.220493316650391\n",
            "Iter-30000; D_loss: 11.935468673706055; G_loss: 4.740212917327881\n",
            "Iter-31000; D_loss: 12.726295471191406; G_loss: 5.109086990356445\n",
            "Iter-32000; D_loss: 11.769964218139648; G_loss: 5.029942512512207\n",
            "Iter-33000; D_loss: 12.451665878295898; G_loss: 5.231412410736084\n",
            "Iter-34000; D_loss: 12.384020805358887; G_loss: 6.042215347290039\n",
            "Iter-35000; D_loss: 12.090675354003906; G_loss: 6.239491939544678\n",
            "Iter-36000; D_loss: 12.717370986938477; G_loss: 5.893950939178467\n",
            "Iter-37000; D_loss: 12.159008026123047; G_loss: 6.144760608673096\n",
            "Iter-38000; D_loss: 12.665545463562012; G_loss: 5.0937910079956055\n",
            "Iter-39000; D_loss: 12.07669448852539; G_loss: 5.227710723876953\n",
            "Iter-40000; D_loss: 11.858941078186035; G_loss: 5.457427501678467\n",
            "Iter-41000; D_loss: 12.227861404418945; G_loss: 5.051846504211426\n",
            "Iter-42000; D_loss: 12.365114212036133; G_loss: 5.393615245819092\n",
            "Iter-43000; D_loss: 11.799552917480469; G_loss: 5.673435688018799\n",
            "Iter-44000; D_loss: 11.501143455505371; G_loss: 4.929732322692871\n",
            "Iter-45000; D_loss: 12.719462394714355; G_loss: 5.676504135131836\n",
            "Iter-46000; D_loss: 11.733284950256348; G_loss: 5.189017295837402\n",
            "Iter-47000; D_loss: 11.999675750732422; G_loss: 5.022781848907471\n",
            "Iter-48000; D_loss: 11.751047134399414; G_loss: 5.866588592529297\n",
            "Iter-49000; D_loss: 11.76842212677002; G_loss: 5.333560466766357\n",
            "Iter-50000; D_loss: 12.914660453796387; G_loss: 6.1765666007995605\n",
            "Iter-51000; D_loss: 11.282445907592773; G_loss: 5.465500831604004\n",
            "Iter-52000; D_loss: 12.743734359741211; G_loss: 4.979273319244385\n",
            "Iter-53000; D_loss: 12.096940994262695; G_loss: 5.149934768676758\n",
            "Iter-54000; D_loss: 11.958343505859375; G_loss: 6.21641206741333\n",
            "Iter-55000; D_loss: 11.960165023803711; G_loss: 5.711648464202881\n",
            "Iter-56000; D_loss: 12.711899757385254; G_loss: 6.524468421936035\n",
            "Iter-57000; D_loss: 12.100885391235352; G_loss: 5.576332092285156\n",
            "Iter-58000; D_loss: 11.599050521850586; G_loss: 5.502024173736572\n",
            "Iter-59000; D_loss: 12.120113372802734; G_loss: 5.346430778503418\n",
            "Iter-60000; D_loss: 12.368141174316406; G_loss: 6.019073486328125\n",
            "Iter-61000; D_loss: 12.946069717407227; G_loss: 4.941667556762695\n",
            "Iter-62000; D_loss: 12.032491683959961; G_loss: 5.419953346252441\n",
            "Iter-63000; D_loss: 12.789874076843262; G_loss: 4.893556594848633\n",
            "Iter-64000; D_loss: 11.992652893066406; G_loss: 5.5508341789245605\n",
            "Iter-65000; D_loss: 12.639121055603027; G_loss: 5.257715702056885\n",
            "Iter-66000; D_loss: 11.385115623474121; G_loss: 5.596378326416016\n",
            "Iter-67000; D_loss: 12.926797866821289; G_loss: 6.223545074462891\n",
            "Iter-68000; D_loss: 11.809956550598145; G_loss: 4.967349529266357\n",
            "Iter-69000; D_loss: 12.03164005279541; G_loss: 5.972712516784668\n",
            "Iter-70000; D_loss: 11.790040969848633; G_loss: 5.279853820800781\n",
            "Iter-71000; D_loss: 11.968669891357422; G_loss: 5.5928778648376465\n",
            "Iter-72000; D_loss: 12.619926452636719; G_loss: 5.573303699493408\n",
            "Iter-73000; D_loss: 12.405564308166504; G_loss: 4.90250825881958\n",
            "Iter-74000; D_loss: 11.948419570922852; G_loss: 4.898716926574707\n",
            "Iter-75000; D_loss: 12.199506759643555; G_loss: 5.037477493286133\n",
            "Iter-76000; D_loss: 12.480941772460938; G_loss: 4.959264278411865\n",
            "Iter-77000; D_loss: 12.357978820800781; G_loss: 6.0605363845825195\n",
            "Iter-78000; D_loss: 11.554302215576172; G_loss: 5.008461952209473\n",
            "Iter-79000; D_loss: 12.940352439880371; G_loss: 5.630481719970703\n",
            "Iter-80000; D_loss: 12.536296844482422; G_loss: 5.6676411628723145\n",
            "Iter-81000; D_loss: 12.557171821594238; G_loss: 4.909045219421387\n",
            "Iter-82000; D_loss: 12.728754043579102; G_loss: 5.145020961761475\n",
            "Iter-83000; D_loss: 11.35385799407959; G_loss: 6.350176811218262\n",
            "Iter-84000; D_loss: 12.336774826049805; G_loss: 6.2636823654174805\n",
            "Iter-85000; D_loss: 11.800948143005371; G_loss: 4.982572555541992\n",
            "Iter-86000; D_loss: 12.160911560058594; G_loss: 5.765655517578125\n",
            "Iter-87000; D_loss: 12.52798080444336; G_loss: 6.346104621887207\n",
            "Iter-88000; D_loss: 11.389719009399414; G_loss: 5.665718078613281\n",
            "Iter-89000; D_loss: 11.90822982788086; G_loss: 4.933994770050049\n",
            "Iter-90000; D_loss: 11.768755912780762; G_loss: 5.219583511352539\n",
            "Iter-91000; D_loss: 12.088418006896973; G_loss: 5.931962966918945\n",
            "Iter-92000; D_loss: 12.318285942077637; G_loss: 5.563741683959961\n",
            "Iter-93000; D_loss: 12.064370155334473; G_loss: 5.056462287902832\n",
            "Iter-94000; D_loss: 11.303752899169922; G_loss: 5.610842704772949\n",
            "Iter-95000; D_loss: 12.078125; G_loss: 5.708851337432861\n",
            "Iter-96000; D_loss: 12.177311897277832; G_loss: 6.101804733276367\n",
            "Iter-97000; D_loss: 12.393547058105469; G_loss: 4.983048915863037\n",
            "Iter-98000; D_loss: 11.704019546508789; G_loss: 4.917821407318115\n",
            "Iter-99000; D_loss: 11.774710655212402; G_loss: 5.616321086883545\n",
            "Iter-100000; D_loss: 12.12403392791748; G_loss: 5.514911651611328\n",
            "Iter-101000; D_loss: 12.77804946899414; G_loss: 5.838806629180908\n",
            "Iter-102000; D_loss: 13.373769760131836; G_loss: 4.908388137817383\n",
            "Iter-103000; D_loss: 12.652551651000977; G_loss: 5.701781272888184\n",
            "Iter-104000; D_loss: 13.02534008026123; G_loss: 5.920868873596191\n",
            "Iter-105000; D_loss: 12.102091789245605; G_loss: 6.274375915527344\n",
            "Iter-106000; D_loss: 11.906291007995605; G_loss: 5.024653911590576\n",
            "Iter-107000; D_loss: 11.916097640991211; G_loss: 6.299796104431152\n",
            "Iter-108000; D_loss: 13.420076370239258; G_loss: 4.928321838378906\n",
            "Iter-109000; D_loss: 12.143473625183105; G_loss: 4.945156574249268\n",
            "Iter-110000; D_loss: 11.886338233947754; G_loss: 5.157892227172852\n",
            "Iter-111000; D_loss: 12.065164566040039; G_loss: 5.726719856262207\n",
            "Iter-112000; D_loss: 11.423837661743164; G_loss: 4.935987949371338\n",
            "Iter-113000; D_loss: 12.312906265258789; G_loss: 5.605188369750977\n",
            "Iter-114000; D_loss: 12.528550148010254; G_loss: 4.880409240722656\n",
            "Iter-115000; D_loss: 12.149381637573242; G_loss: 5.640860557556152\n",
            "Iter-116000; D_loss: 12.019098281860352; G_loss: 6.311271667480469\n",
            "Iter-117000; D_loss: 11.887275695800781; G_loss: 5.880544662475586\n",
            "Iter-118000; D_loss: 12.799367904663086; G_loss: 5.616396427154541\n",
            "Iter-119000; D_loss: 11.807254791259766; G_loss: 5.619772434234619\n",
            "Iter-120000; D_loss: 11.829778671264648; G_loss: 4.941328048706055\n",
            "Iter-121000; D_loss: 12.29155445098877; G_loss: 5.604401588439941\n",
            "Iter-122000; D_loss: 12.719934463500977; G_loss: 5.687345504760742\n",
            "Iter-123000; D_loss: 12.025498390197754; G_loss: 6.4651336669921875\n",
            "Iter-124000; D_loss: 12.172119140625; G_loss: 5.683885097503662\n",
            "Iter-125000; D_loss: 12.753670692443848; G_loss: 5.6304802894592285\n",
            "Iter-126000; D_loss: 12.560359001159668; G_loss: 5.731462001800537\n",
            "Iter-127000; D_loss: 12.045225143432617; G_loss: 5.869385242462158\n",
            "Iter-128000; D_loss: 12.69990348815918; G_loss: 4.816341876983643\n",
            "Iter-129000; D_loss: 12.316295623779297; G_loss: 4.936107635498047\n",
            "Iter-130000; D_loss: 12.483301162719727; G_loss: 5.672608375549316\n",
            "Iter-131000; D_loss: 12.43000602722168; G_loss: 5.637892723083496\n",
            "Iter-132000; D_loss: 12.699180603027344; G_loss: 4.877331256866455\n",
            "Iter-133000; D_loss: 12.080098152160645; G_loss: 5.24337911605835\n",
            "Iter-134000; D_loss: 13.382564544677734; G_loss: 5.8066487312316895\n",
            "Iter-135000; D_loss: 11.543339729309082; G_loss: 5.639599800109863\n",
            "Iter-136000; D_loss: 11.991781234741211; G_loss: 4.726151466369629\n",
            "Iter-137000; D_loss: 12.750364303588867; G_loss: 6.343967437744141\n",
            "Iter-138000; D_loss: 12.003273963928223; G_loss: 5.523721694946289\n",
            "Iter-139000; D_loss: 12.006189346313477; G_loss: 5.797635078430176\n",
            "Iter-140000; D_loss: 11.765884399414062; G_loss: 5.581056594848633\n",
            "Iter-141000; D_loss: 12.692962646484375; G_loss: 5.041553497314453\n",
            "Iter-142000; D_loss: 12.836443901062012; G_loss: 5.451633453369141\n",
            "Iter-143000; D_loss: 12.36433219909668; G_loss: 5.811058044433594\n",
            "Iter-144000; D_loss: 12.808981895446777; G_loss: 5.717526912689209\n",
            "Iter-145000; D_loss: 11.751680374145508; G_loss: 5.596416473388672\n",
            "Iter-146000; D_loss: 11.381620407104492; G_loss: 5.079018592834473\n",
            "Iter-147000; D_loss: 11.773086547851562; G_loss: 5.675651550292969\n",
            "Iter-148000; D_loss: 12.395994186401367; G_loss: 5.871878623962402\n",
            "Iter-149000; D_loss: 12.127180099487305; G_loss: 4.965790748596191\n",
            "Iter-150000; D_loss: 12.689826011657715; G_loss: 5.474933624267578\n",
            "Iter-151000; D_loss: 12.538249969482422; G_loss: 4.669928073883057\n",
            "Iter-152000; D_loss: 11.618069648742676; G_loss: 5.666162490844727\n",
            "Iter-153000; D_loss: 12.653480529785156; G_loss: 5.23622465133667\n",
            "Iter-154000; D_loss: 12.656682968139648; G_loss: 6.15005350112915\n",
            "Iter-155000; D_loss: 11.45937728881836; G_loss: 5.49221658706665\n",
            "Iter-156000; D_loss: 11.9854154586792; G_loss: 4.992960453033447\n",
            "Iter-157000; D_loss: 12.61679458618164; G_loss: 6.299582481384277\n",
            "Iter-158000; D_loss: 11.54388427734375; G_loss: 4.87693977355957\n",
            "Iter-159000; D_loss: 11.947845458984375; G_loss: 5.654994010925293\n",
            "Iter-160000; D_loss: 12.343536376953125; G_loss: 5.027626037597656\n",
            "Iter-161000; D_loss: 12.293514251708984; G_loss: 5.080385208129883\n",
            "Iter-162000; D_loss: 12.971731185913086; G_loss: 5.04693603515625\n",
            "Iter-163000; D_loss: 11.899154663085938; G_loss: 5.5726847648620605\n",
            "Iter-164000; D_loss: 12.931334495544434; G_loss: 5.1125688552856445\n",
            "Iter-165000; D_loss: 12.73061752319336; G_loss: 4.697997570037842\n",
            "Iter-166000; D_loss: 11.777050971984863; G_loss: 5.677038669586182\n",
            "Iter-167000; D_loss: 12.123455047607422; G_loss: 6.587997913360596\n",
            "Iter-168000; D_loss: 12.540971755981445; G_loss: 5.648711681365967\n",
            "Iter-169000; D_loss: 11.836597442626953; G_loss: 4.960653781890869\n",
            "Iter-170000; D_loss: 11.539484024047852; G_loss: 4.707625389099121\n",
            "Iter-171000; D_loss: 11.94499683380127; G_loss: 5.590194225311279\n",
            "Iter-172000; D_loss: 12.00320053100586; G_loss: 5.617088317871094\n",
            "Iter-173000; D_loss: 11.433324813842773; G_loss: 4.963222980499268\n",
            "Iter-174000; D_loss: 11.801191329956055; G_loss: 4.861891746520996\n",
            "Iter-175000; D_loss: 11.75397777557373; G_loss: 4.732771396636963\n",
            "Iter-176000; D_loss: 12.38998794555664; G_loss: 5.644222259521484\n",
            "Iter-177000; D_loss: 11.7811861038208; G_loss: 5.844613075256348\n",
            "Iter-178000; D_loss: 12.158676147460938; G_loss: 5.8649396896362305\n",
            "Iter-179000; D_loss: 11.926288604736328; G_loss: 5.94529914855957\n",
            "Iter-180000; D_loss: 11.494036674499512; G_loss: 5.520801544189453\n",
            "Iter-181000; D_loss: 12.351879119873047; G_loss: 4.853013038635254\n",
            "Iter-182000; D_loss: 12.227758407592773; G_loss: 5.092588901519775\n",
            "Iter-183000; D_loss: 12.733073234558105; G_loss: 5.94718599319458\n",
            "Iter-184000; D_loss: 12.034550666809082; G_loss: 5.786029815673828\n",
            "Iter-185000; D_loss: 12.751684188842773; G_loss: 5.820441246032715\n",
            "Iter-186000; D_loss: 12.541409492492676; G_loss: 5.681791305541992\n",
            "Iter-187000; D_loss: 11.358863830566406; G_loss: 4.927587509155273\n",
            "Iter-188000; D_loss: 13.511094093322754; G_loss: 5.616672992706299\n",
            "Iter-189000; D_loss: 12.750115394592285; G_loss: 6.038345813751221\n",
            "Iter-190000; D_loss: 12.345693588256836; G_loss: 4.9583330154418945\n",
            "Iter-191000; D_loss: 11.822450637817383; G_loss: 4.937390327453613\n",
            "Iter-192000; D_loss: 11.81618881225586; G_loss: 5.686091899871826\n",
            "Iter-193000; D_loss: 12.39454460144043; G_loss: 5.1152849197387695\n",
            "Iter-194000; D_loss: 12.612154006958008; G_loss: 5.6342387199401855\n",
            "Iter-195000; D_loss: 12.001893997192383; G_loss: 5.652063369750977\n",
            "Iter-196000; D_loss: 12.722495079040527; G_loss: 4.838332176208496\n",
            "Iter-197000; D_loss: 12.784280776977539; G_loss: 5.679338455200195\n"
          ],
          "name": "stdout"
        }
      ]
    },
    {
      "cell_type": "markdown",
      "metadata": {
        "id": "La_B8q7Bk_yL"
      },
      "source": [
        " Let us see the images generated by the generator:"
      ]
    },
    {
      "cell_type": "code",
      "metadata": {
        "colab": {
          "base_uri": "https://localhost:8080/",
          "height": 265
        },
        "id": "0hy45KsNk_yL",
        "outputId": "a8c16891-34a3-4b8b-b1ee-f41dc435ded6"
      },
      "source": [
        "import numpy as np\n",
        "final = np.zeros(1500*mb_size, dtype = float)\n",
        "for i in range(1500):\n",
        "    z = torch.FloatTensor(64, Z_dim).uniform_(-1, 1)\n",
        "    z = z.to(device)\n",
        "    l = G[randint(0,num_gen-1)](z).cpu().detach().numpy()\n",
        "    final[i*mb_size : ((i+ 1)*mb_size -1)] = l[0]\n",
        "p1 = plt.hist(final, 500, alpha = 0.5)\n",
        "p2 = plt.hist(data, 500, alpha = 0.5)"
      ],
      "execution_count": 19,
      "outputs": [
        {
          "output_type": "display_data",
          "data": {
            "image/png": "[encoded data removed]",
            "text/plain": [
              "<Figure size 432x288 with 1 Axes>"
            ]
          },
          "metadata": {
            "tags": [],
            "needs_background": "light"
          }
        }
      ]
    }
  ]
}