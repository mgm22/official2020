{
  "nbformat": 4,
  "nbformat_minor": 0,
  "metadata": {
    "colab": {
      "name": "Colaboratory에 오신 것을 환영합니다의 사본",
      "provenance": [],
      "collapsed_sections": [],
      "toc_visible": true,
      "include_colab_link": true
    },
    "kernelspec": {
      "display_name": "Python 3",
      "name": "python3"
    },
    "accelerator": "GPU"
  },
  "cells": [
    {
      "cell_type": "markdown",
      "metadata": {
        "id": "view-in-github",
        "colab_type": "text"
      },
      "source": [
        "<a href=\"https://colab.research.google.com/github/mgm22/official2020/blob/master/Colaboratory%EC%97%90_%EC%98%A4%EC%8B%A0_%EA%B2%83%EC%9D%84_%ED%99%98%EC%98%81%ED%95%A9%EB%8B%88%EB%8B%A4%EC%9D%98_%EC%82%AC%EB%B3%B8.ipynb\" target=\"_parent\"><img src=\"https://colab.research.google.com/assets/colab-badge.svg\" alt=\"Open In Colab\"/></a>"
      ]
    },
    {
      "cell_type": "markdown",
      "metadata": {
        "colab_type": "text",
        "id": "5fCEDCU_qrC0"
      },
      "source": [
        "<p><img alt=\"Colaboratory logo\" height=\"45px\" src=\"/img/colab_favicon.ico\" align=\"left\" hspace=\"10px\" vspace=\"0px\"></p>\n",
        "\n",
        "<h1>Colaboratory란?</h1>\n",
        "\n",
        "Colaboratory&#40;또는 줄여서 'Colab'&#41;를 사용하면 브라우저에서 Python을 작성하고 실행할 수 있습니다. \n",
        "- 구성 필요 없음\n",
        "- GPU 무료 액세스\n",
        "- 간편한 공유\n",
        "\n",
        "<strong>학생</strong>이든, <strong>데이터 과학자</strong>든, <strong>AI 연구원</strong>이든 Colab으로 업무를 더욱 간편하게 처리할 수 있습니다. <a href=\"https://www.youtube.com/watch?v=inN8seMm7UI\">Colab 소개 영상</a>에서 자세한 내용을 확인하거나 아래에서 시작해 보세요."
      ]
    },
    {
      "cell_type": "markdown",
      "metadata": {
        "colab_type": "text",
        "id": "GJBs_flRovLc"
      },
      "source": [
        "## <strong>시작하기</strong>\n",
        "\n",
        "지금 읽고 계신 문서는 정적 웹페이지가 아니라 코드를 작성하고 실행할 수 있는 대화형 환경인 <strong>Colab 메모장</strong>입니다.\n",
        "\n",
        "예를 들어 다음은 값을 계산하여 변수로 저장하고 결과를 출력하는 간단한 Python 스크립트가 포함된 <strong>코드 셀</strong>입니다."
      ]
    },
    {
      "cell_type": "code",
      "metadata": {
        "colab_type": "code",
        "id": "gJr_9dXGpJ05",
        "colab": {
          "base_uri": "https://localhost:8080/",
          "height": 34
        },
        "outputId": "9f556d03-ec67-4950-a485-cfdba9ddd14d"
      },
      "source": [
        "seconds_in_a_day = 24 * 60 * 60\n",
        "seconds_in_a_day"
      ],
      "execution_count": null,
      "outputs": [
        {
          "output_type": "execute_result",
          "data": {
            "text/plain": [
              "86400"
            ]
          },
          "metadata": {
            "tags": []
          },
          "execution_count": 0
        }
      ]
    },
    {
      "cell_type": "markdown",
      "metadata": {
        "colab_type": "text",
        "id": "2fhs6GZ4qFMx"
      },
      "source": [
        "위 셀의 코드를 실행하려면 셀을 클릭하여 선택한 후 코드 왼쪽의 실행 버튼을 누르거나 단축키 'Command/Ctrl+Enter'를 사용하세요. 셀을 클릭하면 코드 수정을 바로 시작할 수 있습니다.\n",
        "\n",
        "특정 셀에서 정의한 변수를 나중에 다른 셀에서 사용할 수 있습니다."
      ]
    },
    {
      "cell_type": "code",
      "metadata": {
        "colab_type": "code",
        "id": "-gE-Ez1qtyIA",
        "colab": {
          "base_uri": "https://localhost:8080/",
          "height": 34
        },
        "outputId": "94cb2224-0edf-457b-90b5-0ac3488d8a97"
      },
      "source": [
        "seconds_in_a_week = 7 * seconds_in_a_day\n",
        "seconds_in_a_week"
      ],
      "execution_count": null,
      "outputs": [
        {
          "output_type": "execute_result",
          "data": {
            "text/plain": [
              "604800"
            ]
          },
          "metadata": {
            "tags": []
          },
          "execution_count": 0
        }
      ]
    },
    {
      "cell_type": "markdown",
      "metadata": {
        "colab_type": "text",
        "id": "lSrWNr3MuFUS"
      },
      "source": [
        "Colab 메모장을 사용하면 <strong>실행 코드</strong>와 <strong>서식 있는 텍스트</strong>를 <strong>이미지</strong>, <strong>HTML</strong>, <strong>LaTeX</strong> 등과 함께 하나의 문서로 통합할 수 있습니다. Colab 메모장을 만들면 Google 드라이브 계정에 저장됩니다. Colab 메모장을 간편하게 공유하여 동료나 친구들이 댓글을 달거나 수정하도록 할 수 있습니다. 자세히 알아보려면 <a href=\"/notebooks/basic_features_overview.ipynb\">Colab 개요</a>를 참조하세요. 새 Colab 메모장을 만들려면 위의 파일 메뉴를 사용하거나 다음 링크로 이동하세요. <a href=\"http://colab.research.google.com#create=true\">새 Colab 메모장 만들기</a>\n",
        "\n",
        "Colab 메모장은 Colab에서 호스팅하는 Jupyter 메모장입니다. Jupyter 프로젝트에 관해 자세히 알아보려면 <a href=\"https://www.jupyter.org\">jupyter.org</a>를 참조하세요."
      ]
    },
    {
      "cell_type": "markdown",
      "metadata": {
        "colab_type": "text",
        "id": "UdRyKR44dcNI"
      },
      "source": [
        "## 데이터 과학\n",
        "\n",
        "Colab을 통해 인기 있는 Python 라이브러리를 최대한 활용하여 데이터를 분석하고 시각화할 수 있습니다. 아래 코드 셀에서는 <strong>numpy</strong>를 사용하여 임의의 데이터를 생성하고 <strong>matplotlib</strong>으로 이를 시각화합니다. 셀을 클릭하면 코드 수정을 바로 시작할 수 있습니다."
      ]
    },
    {
      "cell_type": "code",
      "metadata": {
        "colab_type": "code",
        "id": "C4HZx7Gndbrh",
        "colab": {
          "base_uri": "https://localhost:8080/",
          "height": 281
        },
        "outputId": "46abc637-6abd-41b2-9bba-80a7ae992e06"
      },
      "source": [
        "import numpy as np\n",
        "from matplotlib import pyplot as plt\n",
        "\n",
        "ys = 200 + np.random.randn(100)\n",
        "x = [x for x in range(len(ys))]\n",
        "\n",
        "plt.plot(x, ys, '-')\n",
        "plt.fill_between(x, ys, 195, where=(ys > 195), facecolor='g', alpha=0.6)\n",
        "\n",
        "plt.title(\"Sample Visualization\")\n",
        "plt.show()"
      ],
      "execution_count": null,
      "outputs": [
        {
          "output_type": "display_data",
          "data": {
            "image/png": "[encoded data removed]",
            "text/plain": [
              "<Figure size 432x288 with 1 Axes>"
            ]
          },
          "metadata": {
            "tags": []
          }
        }
      ]
    },
    {
      "cell_type": "markdown",
      "metadata": {
        "colab_type": "text",
        "id": "4_kCnsPUqS6o"
      },
      "source": [
        "Google 드라이브 계정에서 스프레드시트를 비롯한 데이터를 Colab 메모장으로 가져오거나 GitHub 등의 여러 다른 소스에서 데이터를 가져올 수 있습니다. Colab을 데이터 과학에 활용하는 방법과 데이터 가져오기에 관해 자세히 알아보려면 <a href=\"#working-with-data\">데이터 사용하기</a> 아래 링크를 참조하세요."
      ]
    },
    {
      "cell_type": "markdown",
      "metadata": {
        "colab_type": "text",
        "id": "OwuxHmxllTwN"
      },
      "source": [
        "## 머신러닝\n",
        "\n",
        "Colab을 사용하면 <a href=\"https://colab.research.google.com/github/tensorflow/docs/blob/master/site/en/tutorials/quickstart/beginner.ipynb\">코드 몇 줄만으로</a> 이미지 데이터세트를 가져오고, 이 데이터세트로 이미지 분류기를 학습시키며, 모델을 평가할 수 있습니다. Colab 메모장은 Google 클라우드 서버에서 코드를 실행하므로 사용 중인 컴퓨터 성능과 관계없이 <a href=\"#using-accelerated-hardware\">GPU 및 TPU</a>를 포함한 Google 하드웨어 성능을 활용할 수 있습니다. 브라우저만 있으면 사용 가능합니다."
      ]
    },
    {
      "cell_type": "code",
      "metadata": {
        "id": "rBiqy98iSExm",
        "colab_type": "code",
        "colab": {}
      },
      "source": [
        "import torch\n",
        "import torch.nn as nn\n",
        "import torch.optim as optim\n",
        "import torch.nn.init as init\n",
        "import matplotlib.pyplot as plt\n",
        "import pandas as pd\n",
        "import seaborn as sns"
      ],
      "execution_count": null,
      "outputs": []
    },
    {
      "cell_type": "code",
      "metadata": {
        "id": "E8tPyflmb6zJ",
        "colab_type": "code",
        "colab": {
          "base_uri": "https://localhost:8080/",
          "height": 596
        },
        "outputId": "5befed2d-1e71-4662-a520-b0b220085cb1"
      },
      "source": [
        "num_data = 1000\n",
        "num_epoch = 500\n",
        "x = init.uniform_(torch.Tensor(num_data,1),-10,10)\n",
        "fig = plt.figure()\n",
        "axes1 = fig.add_subplot(1,2,1)\n",
        "axes2 = fig.add_subplot(1,2,2)\n",
        "axes1.plot(x)\n",
        "print(type(x))\n",
        "print(type(x.tolist))\n",
        "torchdata = pd.DataFrame(x.tolist(),columns = ['tensors'])\n",
        "print(torchdata)\n",
        "print((torchdata['tensors'].size))\n",
        "length = torchdata['tensors'].size\n",
        "sns.distplot(torchdata['tensors'])"
      ],
      "execution_count": null,
      "outputs": [
        {
          "output_type": "stream",
          "text": [
            "<class 'torch.Tensor'>\n",
            "<class 'builtin_function_or_method'>\n",
            "      tensors\n",
            "0   -1.224289\n",
            "1   -6.482863\n",
            "2    5.565727\n",
            "3   -2.643962\n",
            "4    6.251301\n",
            "..        ...\n",
            "995  7.103008\n",
            "996 -0.258092\n",
            "997 -3.938846\n",
            "998 -8.698723\n",
            "999 -9.226775\n",
            "\n",
            "[1000 rows x 1 columns]\n",
            "1000\n"
          ],
          "name": "stdout"
        },
        {
          "output_type": "execute_result",
          "data": {
            "text/plain": [
              "<matplotlib.axes._subplots.AxesSubplot at 0x7f8c5c99e198>"
            ]
          },
          "metadata": {
            "tags": []
          },
          "execution_count": 49
        },
        {
          "output_type": "display_data",
          "data": {
            "image/png": "[encoded data removed]",
            "text/plain": [
              "<Figure size 432x288 with 2 Axes>"
            ]
          },
          "metadata": {
            "tags": [],
            "needs_background": "light"
          }
        }
      ]
    },
    {
      "cell_type": "code",
      "metadata": {
        "id": "owg3qMoSeE7a",
        "colab_type": "code",
        "colab": {
          "base_uri": "https://localhost:8080/",
          "height": 286
        },
        "outputId": "b79668be-4618-4653-cad4-15accfe1b23a"
      },
      "source": [
        "noise = init.normal_(torch.FloatTensor(num_data,1),std=1)\n",
        "sns.distplot(noise)"
      ],
      "execution_count": null,
      "outputs": [
        {
          "output_type": "execute_result",
          "data": {
            "text/plain": [
              "<matplotlib.axes._subplots.AxesSubplot at 0x7f8c5c695cf8>"
            ]
          },
          "metadata": {
            "tags": []
          },
          "execution_count": 52
        },
        {
          "output_type": "display_data",
          "data": {
            "image/png": "[encoded data removed]",
            "text/plain": [
              "<Figure size 432x288 with 1 Axes>"
            ]
          },
          "metadata": {
            "tags": [],
            "needs_background": "light"
          }
        }
      ]
    },
    {
      "cell_type": "code",
      "metadata": {
        "id": "B2IFkTR0qdYp",
        "colab_type": "code",
        "colab": {
          "base_uri": "https://localhost:8080/",
          "height": 314
        },
        "outputId": "393ba70e-3d23-456a-a941-a9a3a15b0784"
      },
      "source": [
        "y = 2*x+3\n",
        "y_noise = 2*(x+noise)+3\n",
        "fig_2 = plt.figure()\n",
        "axes1 = fig_2.add_subplot(1,2,1)\n",
        "axes2 = fig_2.add_subplot(1,2,2)\n",
        "axes1.plot(y_noise)\n",
        "sns.distplot(y_noise)\n",
        "print(axes2)\n",
        "fig_2.tight_layout()\n",
        "fig_2.show()"
      ],
      "execution_count": null,
      "outputs": [
        {
          "output_type": "stream",
          "text": [
            "AxesSubplot(0.547727,0.125;0.352273x0.755)\n"
          ],
          "name": "stdout"
        },
        {
          "output_type": "display_data",
          "data": {
            "image/png": "[encoded data removed]",
            "text/plain": [
              "<Figure size 432x288 with 2 Axes>"
            ]
          },
          "metadata": {
            "tags": [],
            "needs_background": "light"
          }
        }
      ]
    },
    {
      "cell_type": "code",
      "metadata": {
        "id": "ntLCdpVHzQZC",
        "colab_type": "code",
        "colab": {
          "base_uri": "https://localhost:8080/",
          "height": 193
        },
        "outputId": "c06bc514-1e0d-4c78-b6fc-fbf13d13d307"
      },
      "source": [
        "model = nn.Linear(1,1)\n",
        "loss_func = nn.L1Loss()\n",
        "print(model,loss_func)\n",
        "print(model.parameters)\n",
        "optimizer = optim.SGD(model.parameters(),lr=0.01)\n",
        "print(optimizer)"
      ],
      "execution_count": null,
      "outputs": [
        {
          "output_type": "stream",
          "text": [
            "Linear(in_features=1, out_features=1, bias=True) L1Loss()\n",
            "<bound method Module.parameters of Linear(in_features=1, out_features=1, bias=True)>\n",
            "SGD (\n",
            "Parameter Group 0\n",
            "    dampening: 0\n",
            "    lr: 0.01\n",
            "    momentum: 0\n",
            "    nesterov: False\n",
            "    weight_decay: 0\n",
            ")\n"
          ],
          "name": "stdout"
        }
      ]
    },
    {
      "cell_type": "code",
      "metadata": {
        "id": "OPJbmsK7zuOH",
        "colab_type": "code",
        "colab": {
          "base_uri": "https://localhost:8080/",
          "height": 1000
        },
        "outputId": "cebff056-dd6e-49b4-ed9e-823fc9d62d9d"
      },
      "source": [
        "label = y_noise\n",
        "loss_mat = [0]*num_epoch\n",
        "for i in range(num_epoch):\n",
        "  optimizer.zero_grad()\n",
        "  output = model(x)\n",
        "\n",
        "  loss = loss_func(output,label)\n",
        "  loss_mat[i] = loss\n",
        "  loss.backward()\n",
        "  optimizer.step()\n",
        "\n",
        "\n",
        "  if i%10 == 0:\n",
        "    print(loss.data)\n",
        "    param_list = list(model.parameters())\n",
        "    print(param_list[0].item(),param_list[1].item())"
      ],
      "execution_count": null,
      "outputs": [
        {
          "output_type": "stream",
          "text": [
            "tensor(6.7880)\n",
            "0.857408344745636 -0.3988160789012909\n",
            "tensor(4.8751)\n",
            "1.2857842445373535 -0.3613360524177551\n",
            "tensor(3.8729)\n",
            "1.5812410116195679 -0.30255600810050964\n",
            "tensor(3.5316)\n",
            "1.739418625831604 -0.22611601650714874\n",
            "tensor(3.3758)\n",
            "1.8279011249542236 -0.14201600849628448\n",
            "tensor(3.2632)\n",
            "1.8887861967086792 -0.056516021490097046\n",
            "tensor(3.1694)\n",
            "1.9302010536193848 0.03034397028386593\n",
            "tensor(3.0856)\n",
            "1.9581246376037598 0.11714395880699158\n",
            "tensor(3.0084)\n",
            "1.9744244813919067 0.2032439112663269\n",
            "tensor(2.9344)\n",
            "1.981624722480774 0.288723886013031\n",
            "tensor(2.8644)\n",
            "1.9870970249176025 0.37206390500068665\n",
            "tensor(2.7977)\n",
            "1.9879614114761353 0.4536438584327698\n",
            "tensor(2.7322)\n",
            "1.9919856786727905 0.5343838930130005\n",
            "tensor(2.6689)\n",
            "1.9948537349700928 0.6137839555740356\n",
            "tensor(2.6086)\n",
            "1.9957219362258911 0.6912440657615662\n",
            "tensor(2.5515)\n",
            "1.9956707954406738 0.7667041420936584\n",
            "tensor(2.4975)\n",
            "1.9944069385528564 0.839924156665802\n",
            "tensor(2.4464)\n",
            "1.9914389848709106 0.9113040566444397\n",
            "tensor(2.3975)\n",
            "1.9889183044433594 0.9809841513633728\n",
            "tensor(2.3508)\n",
            "1.9860444068908691 1.049064040184021\n",
            "tensor(2.3070)\n",
            "1.9866050481796265 1.115083932876587\n",
            "tensor(2.2646)\n",
            "1.9865926504135132 1.180164098739624\n",
            "tensor(2.2233)\n",
            "1.9851278066635132 1.2442840337753296\n",
            "tensor(2.1836)\n",
            "1.9830230474472046 1.3072038888931274\n",
            "tensor(2.1457)\n",
            "1.980730414390564 1.3685240745544434\n",
            "tensor(2.1102)\n",
            "1.9840476512908936 1.4278842210769653\n",
            "tensor(2.0760)\n",
            "1.989768147468567 1.4859641790390015\n",
            "tensor(2.0442)\n",
            "1.992867112159729 1.5421640872955322\n",
            "tensor(2.0140)\n",
            "1.9919081926345825 1.5969241857528687\n",
            "tensor(1.9858)\n",
            "1.9926496744155884 1.6499240398406982\n",
            "tensor(1.9587)\n",
            "1.9915086030960083 1.7018439769744873\n",
            "tensor(1.9331)\n",
            "1.9891177415847778 1.7523239850997925\n",
            "tensor(1.9091)\n",
            "1.9858880043029785 1.8010036945343018\n",
            "tensor(1.8866)\n",
            "1.9850084781646729 1.8482637405395508\n",
            "tensor(1.8657)\n",
            "1.9861481189727783 1.8938639163970947\n",
            "tensor(1.8461)\n",
            "1.9879615306854248 1.937943935394287\n",
            "tensor(1.8273)\n",
            "1.989800214767456 1.9812240600585938\n",
            "tensor(1.8092)\n",
            "1.9896950721740723 2.0237441062927246\n",
            "tensor(1.7920)\n",
            "1.9908323287963867 2.06498384475708\n",
            "tensor(1.7769)\n",
            "1.9887628555297852 2.1036839485168457\n",
            "tensor(1.7634)\n",
            "1.9871734380722046 2.140223503112793\n",
            "tensor(1.7506)\n",
            "1.98602294921875 2.17594313621521\n",
            "tensor(1.7388)\n",
            "1.9882937669754028 2.2100632190704346\n",
            "tensor(1.7276)\n",
            "1.9866900444030762 2.2433230876922607\n",
            "tensor(1.7173)\n",
            "1.985969066619873 2.275283098220825\n",
            "tensor(1.7078)\n",
            "1.984278678894043 2.306103229522705\n",
            "tensor(1.6989)\n",
            "1.9834175109863281 2.335702896118164\n",
            "tensor(1.6908)\n",
            "1.9819384813308716 2.3640830516815186\n",
            "tensor(1.6833)\n",
            "1.9808827638626099 2.3914031982421875\n",
            "tensor(1.6763)\n",
            "1.9782644510269165 2.417562961578369\n"
          ],
          "name": "stdout"
        }
      ]
    },
    {
      "cell_type": "code",
      "metadata": {
        "id": "CHt1-YFo1HjG",
        "colab_type": "code",
        "colab": {
          "base_uri": "https://localhost:8080/",
          "height": 297
        },
        "outputId": "a133281e-7d5f-440a-e8e5-2da5882e4519"
      },
      "source": [
        "fig_3 = plt.figure()\n",
        "axax1 = fig_3.add_subplot(1,2,1)\n",
        "axax1.plot(loss_mat)\n",
        "axax1.set_title(\"L1 loss during learning\")\n",
        "axax1.set_xlabel(\"epoch\")\n",
        "axax1.set_ylabel(\"L1 loss\")\n",
        "axax2 = fig_3.add_subplot(1,2,2)\n",
        "axax2.plot(x,y_noise,'o')\n",
        "axax2.set_xlabel(\"x\")\n",
        "axax2.set_ylabel(\"y\")\n",
        "result = model(x)\n",
        "#print(result.data)\n",
        "axax2.plot(x,result.data,'o')\n",
        "axax2.legend(['original data','learning'])\n",
        "axax2.set_title(\"original data vs learning result\")\n",
        "fig_3.tight_layout()\n",
        "fig_3.show()\n",
        "fig_3.savefig('example1.jpg', dpi=fig.dpi)"
      ],
      "execution_count": null,
      "outputs": [
        {
          "output_type": "display_data",
          "data": {
            "image/png": "[encoded data removed]",
            "text/plain": [
              "<Figure size 432x288 with 2 Axes>"
            ]
          },
          "metadata": {
            "tags": [],
            "needs_background": "light"
          }
        }
      ]
    },
    {
      "cell_type": "markdown",
      "metadata": {
        "colab_type": "text",
        "id": "ufxBm1yRnruN"
      },
      "source": [
        "Colab은 다음과 같은 분야의 머신러닝 커뮤니티에서 널리 쓰이고 있습니다.\n",
        "- TensorFlow 시작하기\n",
        "- 신경망 개발 및 학습하기\n",
        "- TPU로 실험하기\n",
        "- AI 연구 보급\n",
        "- 가이드 만들기\n",
        "\n",
        "머신러닝 적용 사례를 보여 주는 Colab 메모장 샘플을 확인하려면 아래 <a href=\"#machine-learning-examples\">머신러닝 예제</a>를 참조하세요."
      ]
    },
    {
      "cell_type": "markdown",
      "metadata": {
        "colab_type": "text",
        "id": "-Rh3-Vt9Nev9"
      },
      "source": [
        "## 추가 리소스\n",
        "\n",
        "### Colab에서 메모장 사용하기\n",
        "- [Colaboratory 개요](/notebooks/basic_features_overview.ipynb)\n",
        "- [Markdown 가이드](/notebooks/markdown_guide.ipynb)\n",
        "- [라이브러리 가져오기 및 종속 항목 설치하기](/notebooks/snippets/importing_libraries.ipynb)\n",
        "- [GitHub에서 노트 저장 및 로드하기](https://colab.research.google.com/github/googlecolab/colabtools/blob/master/notebooks/colab-github-demo.ipynb)\n",
        "- [대화형 양식](/notebooks/forms.ipynb)\n",
        "- [대화형 위젯](/notebooks/widgets.ipynb)\n",
        "- <img src=\"/img/new.png\" height=\"20px\" align=\"left\" hspace=\"4px\" alt=\"New\"></img>\n",
        " [Colab의 TensorFlow 2](/notebooks/tensorflow_version.ipynb)\n",
        "\n",
        "<a name=\"working-with-data\"></a>\n",
        "### 데이터로 작업하기\n",
        "- [데이터 로드: 드라이브, 스프레드시트, Google Cloud Storage](/notebooks/io.ipynb) \n",
        "- [차트: 데이터 시각화하기](/notebooks/charts.ipynb)\n",
        "- [BigQuery 시작하기](/notebooks/bigquery.ipynb)\n",
        "\n",
        "### 머신러닝 단기집중과정\n",
        "다음은 Google 온라인 머신러닝 과정에서 가져온 일부 노트입니다. <a href=\"https://developers.google.com/machine-learning/crash-course/\">전체 과정 웹사이트</a>에서 자세한 내용을 확인하세요.\n",
        "- [Pandas 소개](/notebooks/mlcc/intro_to_pandas.ipynb)\n",
        "- [TensorFlow 개념](/notebooks/mlcc/tensorflow_programming_concepts.ipynb)\n",
        "- [TensorFlow 첫걸음](/notebooks/mlcc/first_steps_with_tensor_flow.ipynb)\n",
        "- [신경망 소개](/notebooks/mlcc/intro_to_neural_nets.ipynb)\n",
        "- [희소 데이터 및 임베딩 소개](/notebooks/mlcc/intro_to_sparse_data_and_embeddings.ipynb)\n",
        "\n",
        "<a name=\"using-accelerated-hardware\"></a>\n",
        "### 가속 하드웨어 사용하기\n",
        "- [GPU를 사용한 TensorFlow](/notebooks/gpu.ipynb)\n",
        "- [TPU를 사용한 TensorFlow](/notebooks/tpu.ipynb)"
      ]
    },
    {
      "cell_type": "markdown",
      "metadata": {
        "colab_type": "text",
        "id": "P-H6Lw1vyNNd"
      },
      "source": [
        "<a name=\"machine-learning-examples\"></a>\n",
        "\n",
        "## 머신러닝 예제\n",
        "\n",
        "Colaboratory 덕분에 가능해진 대화형 머신러닝 분석의 예시를 자세히 살펴보려면 <a href=\"https://tfhub.dev\">TensorFlow Hub</a>의 모델을 사용한 이 튜토리얼을 살펴보세요.\n",
        "\n",
        "일부 추천 예시는 다음과 같습니다.\n",
        "\n",
        "- <a href=\"https://tensorflow.org/hub/tutorials/tf2_image_retraining\">이미지 분류기 재훈련</a>: 사전에 훈련된 이미지 분류기를 기반으로 꽃을 분류하기 위한 Keras 모델을 구축합니다.\n",
        "- <a href=\"https://tensorflow.org/hub/tutorials/tf2_text_classification\">텍스트 분류</a>: IMDB 영화 리뷰를 <em>긍정적인 리뷰</em> 또는 <em>부정적인 리뷰</em>로 분류합니다.\n",
        "- <a href=\"https://tensorflow.org/hub/tutorials/tf2_arbitrary_image_stylization\">스타일 트랜스퍼</a>: 딥 러닝을 사용하여 이미지 간에 스타일을 전이시킵니다.\n",
        "- <a href=\"https://tensorflow.org/hub/tutorials/retrieval_with_tf_hub_universal_encoder_qa\">Multilingual Universal Sentence Encoder Q&amp;A</a>: 머신러닝 모델을 사용하여 SQuAD 데이터 세트의 질문에 답변합니다.\n",
        "- <a href=\"https://tensorflow.org/hub/tutorials/tweening_conv3d\">동영상 보간 유형</a>: 동영상에서 첫 프레임과 마지막 프레임 사이에 발생한 내용을 예측합니다.\n"
      ]
    },
    {
      "cell_type": "markdown",
      "metadata": {
        "id": "n_0FwelKSC0X",
        "colab_type": "text"
      },
      "source": [
        "# 새 섹션"
      ]
    }
  ]
}